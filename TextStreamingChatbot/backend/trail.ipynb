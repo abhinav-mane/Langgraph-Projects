{
 "cells": [
  {
   "cell_type": "code",
   "execution_count": 1,
   "metadata": {},
   "outputs": [],
   "source": [
    "from langchain_ollama import ChatOllama"
   ]
  },
  {
   "cell_type": "code",
   "execution_count": 2,
   "metadata": {},
   "outputs": [],
   "source": [
    "from langchain.callbacks.base import BaseCallbackHandler\n",
    "from typing import Any\n",
    "\n",
    "class StreamingCallbackHandler(BaseCallbackHandler):\n",
    "    def __init__(self):\n",
    "        self.partial_output = \"\"\n",
    "\n",
    "    def on_llm_new_token(self, token: str, **kwargs: Any) -> None:\n",
    "        self.partial_output += token\n",
    "        print(token, end=\"\", flush=True)"
   ]
  },
  {
   "cell_type": "code",
   "execution_count": 3,
   "metadata": {},
   "outputs": [],
   "source": [
    "from langchain.callbacks.manager import CallbackManager\n",
    "from langchain.callbacks.streaming_stdout import StreamingStdOutCallbackHandler\n",
    "\n",
    "callback_manager = CallbackManager([StreamingStdOutCallbackHandler()])"
   ]
  },
  {
   "cell_type": "code",
   "execution_count": 9,
   "metadata": {},
   "outputs": [],
   "source": [
    "model = ChatOllama(model = 'llama3.2:latest',callbacks=callback_manager,stream=True)"
   ]
  },
  {
   "cell_type": "code",
   "execution_count": 10,
   "metadata": {},
   "outputs": [
    {
     "name": "stdout",
     "output_type": "stream",
     "text": [
      "The Elephant: A Majestic Creature of Wonder\n",
      "\n",
      "The elephant is one of the most recognizable and majestic creatures in the animal kingdom. With its distinctive trunk, tusks, and large ears, it is a sight to behold. These gentle giants are found in various parts of Africa and Asia, roaming freely in their natural habitats.\n",
      "\n",
      "Elephants are highly intelligent and social animals, living in complex matriarchal societies led by wise older females. They possess excellent memory and communication skills, using a range of vocalizations, body language, and even touch to convey information. Their trunks, which serve as multi-purpose appendages for breathing, drinking, eating, and grasping objects, are highly adaptable and versatile.\n",
      "\n",
      "Despite their size and strength, elephants are surprisingly gentle and empathetic creatures. They demonstrate compassion and self-awareness, often showing signs of grief and mourning when they lose family members or friends. Unfortunately, elephant populations are threatened by poaching and habitat loss, highlighting the need for conservation efforts to protect these incredible animals and their habitats.\n",
      "\n",
      "By learning more about elephants and their fascinating behaviors, we can gain a deeper appreciation for these magnificent creatures and work towards preserving their place in our world."
     ]
    },
    {
     "data": {
      "text/plain": [
       "'The Elephant: A Majestic Creature of Wonder\\n\\nThe elephant is one of the most recognizable and majestic creatures in the animal kingdom. With its distinctive trunk, tusks, and large ears, it is a sight to behold. These gentle giants are found in various parts of Africa and Asia, roaming freely in their natural habitats.\\n\\nElephants are highly intelligent and social animals, living in complex matriarchal societies led by wise older females. They possess excellent memory and communication skills, using a range of vocalizations, body language, and even touch to convey information. Their trunks, which serve as multi-purpose appendages for breathing, drinking, eating, and grasping objects, are highly adaptable and versatile.\\n\\nDespite their size and strength, elephants are surprisingly gentle and empathetic creatures. They demonstrate compassion and self-awareness, often showing signs of grief and mourning when they lose family members or friends. Unfortunately, elephant populations are threatened by poaching and habitat loss, highlighting the need for conservation efforts to protect these incredible animals and their habitats.\\n\\nBy learning more about elephants and their fascinating behaviors, we can gain a deeper appreciation for these magnificent creatures and work towards preserving their place in our world.'"
      ]
     },
     "execution_count": 10,
     "metadata": {},
     "output_type": "execute_result"
    }
   ],
   "source": [
    "model.invoke(\"Write a 200 word essay on elephant\").content"
   ]
  },
  {
   "cell_type": "code",
   "execution_count": null,
   "metadata": {},
   "outputs": [],
   "source": []
  }
 ],
 "metadata": {
  "kernelspec": {
   "display_name": "chat_streaming",
   "language": "python",
   "name": "python3"
  },
  "language_info": {
   "codemirror_mode": {
    "name": "ipython",
    "version": 3
   },
   "file_extension": ".py",
   "mimetype": "text/x-python",
   "name": "python",
   "nbconvert_exporter": "python",
   "pygments_lexer": "ipython3",
   "version": "3.11.0"
  }
 },
 "nbformat": 4,
 "nbformat_minor": 2
}
